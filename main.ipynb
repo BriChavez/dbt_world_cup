{
 "cells": [
  {
   "cell_type": "code",
   "execution_count": 11,
   "metadata": {},
   "outputs": [],
   "source": [
    "# import pandas as pd\n",
    "\n",
    "# file_path = '/home/fossa/data/dont_worry_about_it/datasets/exoplanets.csv'\n",
    "# df = pd.read_csv(file_path,  = 'pl_name')"
   ]
  },
  {
   "cell_type": "code",
   "execution_count": 1,
   "metadata": {},
   "outputs": [],
   "source": [
    "import pandas as pd\n",
    "import requests\n",
    "\n",
    "soccer_url = \"https://raw.githubusercontent.com/BriChavez/FIFAWorldCup/master/squads.csv\"\n",
    "df = pd.read_csv(soccer_url)\n",
    "\n",
    "df = df.set_index('Player')\n",
    "\n",
    "\n"
   ]
  },
  {
   "cell_type": "code",
   "execution_count": 12,
   "metadata": {},
   "outputs": [],
   "source": [
    "df.columns = ['Jersey_Num', 'Position', 'DOB_Age',\n",
    "              'Caps', 'Club', 'Country', 'ClubCountry', 'Cup_Year']\n"
   ]
  },
  {
   "cell_type": "code",
   "execution_count": 3,
   "metadata": {},
   "outputs": [
    {
     "name": "stderr",
     "output_type": "stream",
     "text": [
      "/home/fossa/deb/tests/dbt/venv/lib/python3.7/site-packages/ipykernel_launcher.py:2: FutureWarning: The default value of regex will change from True to False in a future version.\n",
      "  \n"
     ]
    }
   ],
   "source": [
    "\n",
    "\n"
   ]
  },
  {
   "cell_type": "code",
   "execution_count": 5,
   "metadata": {},
   "outputs": [
    {
     "name": "stdout",
     "output_type": "stream",
     "text": [
      "<class 'pandas.core.frame.DataFrame'>\n",
      "Index: 8897 entries, Ángel Bossio to Kim Shin-Wook\n",
      "Data columns (total 8 columns):\n",
      " #   Column       Non-Null Count  Dtype \n",
      "---  ------       --------------  ----- \n",
      " 0   Jersey_Num   8897 non-null   object\n",
      " 1   Position     8897 non-null   object\n",
      " 2   DOB_Age      8897 non-null   object\n",
      " 3   Caps         8897 non-null   int64 \n",
      " 4   Club         8897 non-null   object\n",
      " 5   Country      8897 non-null   object\n",
      " 6   ClubCountry  8897 non-null   object\n",
      " 7   Cup_Year     8897 non-null   int64 \n",
      "dtypes: int64(2), object(6)\n",
      "memory usage: 625.6+ KB\n"
     ]
    }
   ],
   "source": [
    "# \n",
    "\n",
    "\n",
    "# df.columns = ['Jersey_Num', 'Position', 'DOB_Age',\n",
    "#               'Caps', 'Club', 'Country', 'ClubCountry', 'Cup_Year']\n",
    "\n",
    "\n",
    "# df = df.fillna(0)\n",
    "\n",
    "\n",
    "# df[df.Caps.isnull()]\n",
    "# df.fillna(0)\n",
    "\n"
   ]
  },
  {
   "cell_type": "code",
   "execution_count": 13,
   "metadata": {},
   "outputs": [
    {
     "ename": "SyntaxError",
     "evalue": "invalid syntax (617810852.py, line 4)",
     "output_type": "error",
     "traceback": [
      "\u001b[0;36m  File \u001b[0;32m\"/tmp/ipykernel_58377/617810852.py\"\u001b[0;36m, line \u001b[0;32m4\u001b[0m\n\u001b[0;31m    age = df.DOB_Age.str.extract(r\"\\(([A-Za-z0-9 _]+)\\)\").str.extract('(\\d+)'))\u001b[0m\n\u001b[0m                                                                              ^\u001b[0m\n\u001b[0;31mSyntaxError\u001b[0m\u001b[0;31m:\u001b[0m invalid syntax\n"
     ]
    }
   ],
   "source": [
    "# replaces non \n",
    "# df.Caps = df.Caps.str.replace('[^\\w\\s]', '0')\n",
    "# extracts words and numbers surrounded by parens. aka age, in this instance\n",
    "age = df.DOB_Age.str.extract(r\"\\(([A-Za-z0-9 _]+)\\)\")\n",
    "# assigns the extracted aged info as a column to mess with further\n",
    "df = df.assign(age = age)\n",
    "# reassigns our new column the extracted integers from that column, aka just the ages\n",
    "df = df.assign(age = lambda x: x['age'].str.extract('(\\d+)'))\n",
    "\n",
    "df = df.age.astype(int, errors='ignore')\n",
    "\n",
    "df = df.assign(birthday=lambda x: x['DOB_Age'].str.extract(r\"\\(([0-9 _-]+)\\)\"))\n",
    "\n",
    "df = df.drop(['DOB_Age'], axis = 1)\n",
    "\n",
    "df = df.fillna(0)\n",
    "\n",
    "df = df.fillna('n/a')\n",
    "\n",
    "df.Caps = df.Caps.astype('int', errors='ignore')\n",
    "\n",
    "df.info()\n"
   ]
  },
  {
   "cell_type": "code",
   "execution_count": null,
   "metadata": {},
   "outputs": [],
   "source": [
    "df.to_csv('data/world_cup.csv')"
   ]
  },
  {
   "cell_type": "code",
   "execution_count": null,
   "metadata": {},
   "outputs": [],
   "source": [
    "# Imports the Google Cloud client library\n",
    "import os\n",
    "from google.cloud import storage\n",
    "\n",
    "# Instantiates a client\n",
    "\n",
    "os.environ[\"GOOGLE_APPLICATION_CREDENTIALS\"] = \"/home/fossa/data/dont_worry_about_it/dbt-user-creds.json\"\n",
    "client = storage.Client()\n",
    "\n",
    "\n",
    "# Retrieve an existing bucket\n",
    "# https://console.cloud.google.com/storage/browser/world_cup/\n",
    "bucket = client.get_bucket('world_cup')\n",
    "# upload the csv to the bucket\n",
    "blob = bucket.blob('world_cup.csv')\n",
    "blob.upload_from_filename('data/world_cup.csv')\n"
   ]
  },
  {
   "cell_type": "code",
   "execution_count": null,
   "metadata": {},
   "outputs": [],
   "source": []
  }
 ],
 "metadata": {
  "kernelspec": {
   "display_name": "Python 3.7.13 ('venv': venv)",
   "language": "python",
   "name": "python3"
  },
  "language_info": {
   "codemirror_mode": {
    "name": "ipython",
    "version": 3
   },
   "file_extension": ".py",
   "mimetype": "text/x-python",
   "name": "python",
   "nbconvert_exporter": "python",
   "pygments_lexer": "ipython3",
   "version": "3.7.13"
  },
  "orig_nbformat": 4,
  "vscode": {
   "interpreter": {
    "hash": "05e78369e3e1b279be23515b63fc5858fdad2693a1a358fcb39d34add3f0dff8"
   }
  }
 },
 "nbformat": 4,
 "nbformat_minor": 2
}
