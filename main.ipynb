{
 "cells": [
  {
   "cell_type": "code",
   "execution_count": null,
   "metadata": {},
   "outputs": [],
   "source": [
    "# import pandas as pd\n",
    "\n",
    "# file_path = '/home/fossa/data/dont_worry_about_it/datasets/exoplanets.csv'\n",
    "# df = pd.read_csv(file_path,  = 'pl_name')"
   ]
  },
  {
   "cell_type": "code",
   "execution_count": null,
   "metadata": {},
   "outputs": [],
   "source": [
    "# \n",
    "# 'Walter Weiler', 'Samir Shaker Mahmoud', 'Medhi Lacen'\n",
    "\n",
    "# df.columns = ['Jersey_Num', 'Position', 'DOB_Age',\n",
    "#               'Caps', 'Club', 'Country', 'ClubCountry', 'Cup_Year']\n",
    "\n",
    "\n",
    "# df = df.fillna(0)\n",
    "\n",
    "\n",
    "# df[df.Caps.isnull()]\n",
    "# df.fillna(0)\n",
    "\n",
    "# df = pd.to_datetime(df.Birthday)\n",
    "df.info()"
   ]
  },
  {
   "cell_type": "code",
   "execution_count": 13,
   "metadata": {},
   "outputs": [],
   "source": [
    "import pandas as pd\n",
    "\n",
    "# import a csv from the world wide web\n",
    "soccer_url = \"https://raw.githubusercontent.com/BriChavez/FIFAWorldCup/master/squads.csv\"\n",
    "# read it into our trusty pandas df so we can clean it\n",
    "df = pd.read_csv(soccer_url)\n",
    "\n",
    "# set index as player name\n",
    "df = df.set_index('Player')\n"
   ]
  },
  {
   "cell_type": "code",
   "execution_count": 14,
   "metadata": {},
   "outputs": [
    {
     "data": {
      "text/plain": [
       "<bound method NDFrame.describe of                   Jersey_Num Position                                 DOB_Age  \\\n",
       "Player                                                                          \n",
       "Ángel Bossio               1      1GK        (1905-05-05)5 May 1905 (aged 25)   \n",
       "Juan Botasso               1      1GK   (1908-10-23)23 October 1908 (aged 21)   \n",
       "Roberto Cherro             9      4FW  (1907-02-23)23 February 1907 (aged 23)   \n",
       "Alberto Chividini          4      2DF  (1907-02-23)23 February 1907 (aged 23)   \n",
       "Attilio Demaría           10      4FW     (1909-03-19)19 March 1909 (aged 21)   \n",
       "...                      ...      ...                                     ...   \n",
       "Park Chu-Young             -      4FW      (1985-07-10)10 July 1985 (aged 28)   \n",
       "Ji Dong-Won                -      4FW       (1991-05-28)28 May 1991 (aged 23)   \n",
       "Lee Keun-Ho                -      4FW     (1985-04-11)11 April 1985 (aged 29)   \n",
       "Koo Ja-Cheol               -      4FW  (1989-02-27)27 February 1989 (aged 25)   \n",
       "Kim Shin-Wook              -      4FW     (1988-04-14)14 April 1988 (aged 26)   \n",
       "\n",
       "                  Caps                   Club      Country  ClubCountry  \\\n",
       "Player                                                                    \n",
       "Ángel Bossio       NaN               Talleres    Argentina    Argentina   \n",
       "Juan Botasso       NaN                Quilmes    Argentina    Argentina   \n",
       "Roberto Cherro     NaN           Boca Juniors    Argentina    Argentina   \n",
       "Alberto Chividini  NaN  Central Norte Tucumán    Argentina    Argentina   \n",
       "Attilio Demaría    NaN    Estudiantil Porteño    Argentina    Argentina   \n",
       "...                ...                    ...          ...          ...   \n",
       "Park Chu-Young      62                Watford  South Korea      England   \n",
       "Ji Dong-Won         26            FC Augsburg  South Korea      Germany   \n",
       "Lee Keun-Ho         62          Sangju Sangmu  South Korea  South Korea   \n",
       "Koo Ja-Cheol        35               Mainz 05  South Korea      Germany   \n",
       "Kim Shin-Wook       26          Ulsan Hyundai  South Korea  South Korea   \n",
       "\n",
       "                   Cup_Year  \n",
       "Player                       \n",
       "Ángel Bossio           1930  \n",
       "Juan Botasso           1930  \n",
       "Roberto Cherro         1930  \n",
       "Alberto Chividini      1930  \n",
       "Attilio Demaría        1930  \n",
       "...                     ...  \n",
       "Park Chu-Young         2014  \n",
       "Ji Dong-Won            2014  \n",
       "Lee Keun-Ho            2014  \n",
       "Koo Ja-Cheol           2014  \n",
       "Kim Shin-Wook          2014  \n",
       "\n",
       "[8897 rows x 8 columns]>"
      ]
     },
     "execution_count": 14,
     "metadata": {},
     "output_type": "execute_result"
    }
   ],
   "source": [
    "\n",
    "# set column names\n",
    "df.columns = ['Jersey_Num',\n",
    "              'Position',\n",
    "              'DOB_Age',\n",
    "              'Caps',\n",
    "              'Club',\n",
    "              'Country',\n",
    "              'ClubCountry',\n",
    "              'Cup_Year']\n",
    "df.describe"
   ]
  },
  {
   "cell_type": "code",
   "execution_count": 15,
   "metadata": {},
   "outputs": [
    {
     "name": "stdout",
     "output_type": "stream",
     "text": [
      "Player\n",
      "Ángel Bossio         NaN\n",
      "Juan Botasso         NaN\n",
      "Roberto Cherro       NaN\n",
      "Alberto Chividini    NaN\n",
      "Attilio Demaría      NaN\n",
      "                    ... \n",
      "Park Chu-Young        62\n",
      "Ji Dong-Won           26\n",
      "Lee Keun-Ho           62\n",
      "Koo Ja-Cheol          35\n",
      "Kim Shin-Wook         26\n",
      "Name: Caps, Length: 8897, dtype: object\n"
     ]
    },
    {
     "name": "stderr",
     "output_type": "stream",
     "text": [
      "/home/fossa/deb/tests/dbt/venv/lib/python3.7/site-packages/ipykernel_launcher.py:2: FutureWarning: The default value of regex will change from True to False in a future version.\n",
      "  \n"
     ]
    }
   ],
   "source": [
    "# replace non integer values, in the column Caps, with 0\n",
    "df.Caps.str.replace('[^\\w\\s]', '0')\n"
   ]
  },
  {
   "cell_type": "code",
   "execution_count": 19,
   "metadata": {},
   "outputs": [
    {
     "name": "stdout",
     "output_type": "stream",
     "text": [
      "<class 'pandas.core.frame.DataFrame'>\n",
      "Index: 8897 entries, Ángel Bossio to Kim Shin-Wook\n",
      "Data columns (total 9 columns):\n",
      " #   Column       Non-Null Count  Dtype \n",
      "---  ------       --------------  ----- \n",
      " 0   Jersey_Num   8873 non-null   object\n",
      " 1   Position     8897 non-null   object\n",
      " 2   DOB_Age      8805 non-null   object\n",
      " 3   Caps         6086 non-null   object\n",
      " 4   Club         8897 non-null   object\n",
      " 5   Country      8897 non-null   object\n",
      " 6   ClubCountry  8897 non-null   object\n",
      " 7   Cup_Year     8897 non-null   int64 \n",
      " 8   Age          8739 non-null   object\n",
      "dtypes: int64(1), object(8)\n",
      "memory usage: 695.1+ KB\n"
     ]
    }
   ],
   "source": [
    "\n",
    "# extract words and numbers surrounded by parens. aka 'aged' and age value, in this instance\n",
    "Age = df.DOB_Age.str.extract(r\"\\(([A-Za-z0-9 _]+)\\)\")\n",
    "# assign the extracted aged info as a column to mess with further\n",
    "df = df.assign(Age=Age)\n"
   ]
  },
  {
   "cell_type": "code",
   "execution_count": 21,
   "metadata": {},
   "outputs": [
    {
     "name": "stdout",
     "output_type": "stream",
     "text": [
      "<class 'pandas.core.frame.DataFrame'>\n",
      "Index: 8897 entries, Ángel Bossio to Kim Shin-Wook\n",
      "Data columns (total 9 columns):\n",
      " #   Column       Non-Null Count  Dtype \n",
      "---  ------       --------------  ----- \n",
      " 0   Jersey_Num   8873 non-null   object\n",
      " 1   Position     8897 non-null   object\n",
      " 2   DOB_Age      8805 non-null   object\n",
      " 3   Caps         6086 non-null   object\n",
      " 4   Club         8897 non-null   object\n",
      " 5   Country      8897 non-null   object\n",
      " 6   ClubCountry  8897 non-null   object\n",
      " 7   Cup_Year     8897 non-null   int64 \n",
      " 8   Age          8739 non-null   object\n",
      "dtypes: int64(1), object(8)\n",
      "memory usage: 695.1+ KB\n"
     ]
    }
   ],
   "source": [
    "# reassign our new column the extracted integers from that column, aka just the ages\n",
    "df = df.assign(Age=lambda x: x['Age'].str.extract('(\\d+)'))\n"
   ]
  },
  {
   "cell_type": "code",
   "execution_count": 23,
   "metadata": {},
   "outputs": [
    {
     "name": "stdout",
     "output_type": "stream",
     "text": [
      "<class 'pandas.core.frame.DataFrame'>\n",
      "Index: 8897 entries, Ángel Bossio to Kim Shin-Wook\n",
      "Data columns (total 10 columns):\n",
      " #   Column       Non-Null Count  Dtype \n",
      "---  ------       --------------  ----- \n",
      " 0   Jersey_Num   8873 non-null   object\n",
      " 1   Position     8897 non-null   object\n",
      " 2   DOB_Age      8805 non-null   object\n",
      " 3   Caps         6086 non-null   object\n",
      " 4   Club         8897 non-null   object\n",
      " 5   Country      8897 non-null   object\n",
      " 6   ClubCountry  8897 non-null   object\n",
      " 7   Cup_Year     8897 non-null   int64 \n",
      " 8   Age          8739 non-null   object\n",
      " 9   Birthday     8736 non-null   object\n",
      "dtypes: int64(1), object(9)\n",
      "memory usage: 764.6+ KB\n"
     ]
    }
   ],
   "source": [
    "# reassign as birthday the dob datetime object from inside parens\n",
    "df = df.assign(Birthday=lambda x: x['DOB_Age'].str.extract(r\"\\(([0-9 _-]+)\\)\"))\n",
    "df.info()\n"
   ]
  },
  {
   "cell_type": "code",
   "execution_count": null,
   "metadata": {},
   "outputs": [],
   "source": [
    "# sorry boys, ya b-day is backward and i dont have time to figure that out\n",
    "df = df.drop(\n",
    "    # dropping the backward birthday boys\n",
    "    index=['Walter Weiler', 'Samir Shaker Mahmoud', 'Medhi Lacen'])\n",
    "\n"
   ]
  },
  {
   "cell_type": "code",
   "execution_count": 27,
   "metadata": {},
   "outputs": [
    {
     "name": "stdout",
     "output_type": "stream",
     "text": [
      "<class 'pandas.core.frame.DataFrame'>\n",
      "Index: 8894 entries, Ángel Bossio to Kim Shin-Wook\n",
      "Data columns (total 10 columns):\n",
      " #   Column       Non-Null Count  Dtype         \n",
      "---  ------       --------------  -----         \n",
      " 0   Jersey_Num   8870 non-null   object        \n",
      " 1   Position     8894 non-null   object        \n",
      " 2   DOB_Age      8802 non-null   object        \n",
      " 3   Caps         6084 non-null   object        \n",
      " 4   Club         8894 non-null   object        \n",
      " 5   Country      8894 non-null   object        \n",
      " 6   ClubCountry  8894 non-null   object        \n",
      " 7   Cup_Year     8894 non-null   int64         \n",
      " 8   Age          8736 non-null   object        \n",
      " 9   Birthday     8733 non-null   datetime64[ns]\n",
      "dtypes: datetime64[ns](1), int64(1), object(8)\n",
      "memory usage: 1022.4+ KB\n"
     ]
    }
   ],
   "source": [
    "# set birthday as a datetime\n",
    "df.Birthday = pd.to_datetime(df.Birthday)\n",
    "df.info()"
   ]
  },
  {
   "cell_type": "code",
   "execution_count": 28,
   "metadata": {},
   "outputs": [
    {
     "name": "stdout",
     "output_type": "stream",
     "text": [
      "<class 'pandas.core.frame.DataFrame'>\n",
      "Index: 8894 entries, Ángel Bossio to Kim Shin-Wook\n",
      "Data columns (total 10 columns):\n",
      " #   Column       Non-Null Count  Dtype \n",
      "---  ------       --------------  ----- \n",
      " 0   Jersey_Num   8894 non-null   object\n",
      " 1   Position     8894 non-null   object\n",
      " 2   DOB_Age      8894 non-null   object\n",
      " 3   Caps         8894 non-null   object\n",
      " 4   Club         8894 non-null   object\n",
      " 5   Country      8894 non-null   object\n",
      " 6   ClubCountry  8894 non-null   object\n",
      " 7   Cup_Year     8894 non-null   int64 \n",
      " 8   Age          8894 non-null   object\n",
      " 9   Birthday     8894 non-null   object\n",
      "dtypes: int64(1), object(9)\n",
      "memory usage: 1022.4+ KB\n"
     ]
    }
   ],
   "source": [
    "# fill null numeric values with 0\n",
    "df = df.fillna(0)\n",
    "# fill null values from nonnumeric columns with n/a\n",
    "df = df.fillna('n/a')\n",
    "df.info()"
   ]
  },
  {
   "cell_type": "code",
   "execution_count": 3,
   "metadata": {},
   "outputs": [
    {
     "name": "stderr",
     "output_type": "stream",
     "text": [
      "/home/fossa/deb/tests/dbt/venv/lib/python3.7/site-packages/ipykernel_launcher.py:20: FutureWarning: The default value of regex will change from True to False in a future version.\n"
     ]
    },
    {
     "ename": "AttributeError",
     "evalue": "'Series' object has no attribute 'DOB_Age'",
     "output_type": "error",
     "traceback": [
      "\u001b[0;31m---------------------------------------------------------------------------\u001b[0m",
      "\u001b[0;31mAttributeError\u001b[0m                            Traceback (most recent call last)",
      "\u001b[0;32m/tmp/ipykernel_65951/2559655128.py\u001b[0m in \u001b[0;36m<module>\u001b[0;34m\u001b[0m\n\u001b[1;32m     20\u001b[0m \u001b[0mdf\u001b[0m \u001b[0;34m=\u001b[0m \u001b[0mdf\u001b[0m\u001b[0;34m.\u001b[0m\u001b[0mCaps\u001b[0m\u001b[0;34m.\u001b[0m\u001b[0mstr\u001b[0m\u001b[0;34m.\u001b[0m\u001b[0mreplace\u001b[0m\u001b[0;34m(\u001b[0m\u001b[0;34m'[^\\w\\s]'\u001b[0m\u001b[0;34m,\u001b[0m \u001b[0;34m'0'\u001b[0m\u001b[0;34m)\u001b[0m\u001b[0;34m\u001b[0m\u001b[0;34m\u001b[0m\u001b[0m\n\u001b[1;32m     21\u001b[0m \u001b[0;31m# extract words and numbers surrounded by parens. aka 'aged' and age value, in this instance\u001b[0m\u001b[0;34m\u001b[0m\u001b[0;34m\u001b[0m\u001b[0;34m\u001b[0m\u001b[0m\n\u001b[0;32m---> 22\u001b[0;31m \u001b[0mAge\u001b[0m \u001b[0;34m=\u001b[0m \u001b[0mdf\u001b[0m\u001b[0;34m.\u001b[0m\u001b[0mDOB_Age\u001b[0m\u001b[0;34m.\u001b[0m\u001b[0mstr\u001b[0m\u001b[0;34m.\u001b[0m\u001b[0mextract\u001b[0m\u001b[0;34m(\u001b[0m\u001b[0;34mr\"\\(([A-Za-z0-9 _]+)\\)\"\u001b[0m\u001b[0;34m)\u001b[0m\u001b[0;34m\u001b[0m\u001b[0;34m\u001b[0m\u001b[0m\n\u001b[0m\u001b[1;32m     23\u001b[0m \u001b[0;31m# assign the extracted aged info as a column to mess with further\u001b[0m\u001b[0;34m\u001b[0m\u001b[0;34m\u001b[0m\u001b[0;34m\u001b[0m\u001b[0m\n\u001b[1;32m     24\u001b[0m \u001b[0mdf\u001b[0m \u001b[0;34m=\u001b[0m \u001b[0mdf\u001b[0m\u001b[0;34m.\u001b[0m\u001b[0massign\u001b[0m\u001b[0;34m(\u001b[0m\u001b[0mAge\u001b[0m \u001b[0;34m=\u001b[0m \u001b[0mAge\u001b[0m\u001b[0;34m)\u001b[0m\u001b[0;34m\u001b[0m\u001b[0;34m\u001b[0m\u001b[0m\n",
      "\u001b[0;32m~/deb/tests/dbt/venv/lib/python3.7/site-packages/pandas/core/generic.py\u001b[0m in \u001b[0;36m__getattr__\u001b[0;34m(self, name)\u001b[0m\n\u001b[1;32m   5485\u001b[0m         ):\n\u001b[1;32m   5486\u001b[0m             \u001b[0;32mreturn\u001b[0m \u001b[0mself\u001b[0m\u001b[0;34m[\u001b[0m\u001b[0mname\u001b[0m\u001b[0;34m]\u001b[0m\u001b[0;34m\u001b[0m\u001b[0;34m\u001b[0m\u001b[0m\n\u001b[0;32m-> 5487\u001b[0;31m         \u001b[0;32mreturn\u001b[0m \u001b[0mobject\u001b[0m\u001b[0;34m.\u001b[0m\u001b[0m__getattribute__\u001b[0m\u001b[0;34m(\u001b[0m\u001b[0mself\u001b[0m\u001b[0;34m,\u001b[0m \u001b[0mname\u001b[0m\u001b[0;34m)\u001b[0m\u001b[0;34m\u001b[0m\u001b[0;34m\u001b[0m\u001b[0m\n\u001b[0m\u001b[1;32m   5488\u001b[0m \u001b[0;34m\u001b[0m\u001b[0m\n\u001b[1;32m   5489\u001b[0m     \u001b[0;32mdef\u001b[0m \u001b[0m__setattr__\u001b[0m\u001b[0;34m(\u001b[0m\u001b[0mself\u001b[0m\u001b[0;34m,\u001b[0m \u001b[0mname\u001b[0m\u001b[0;34m:\u001b[0m \u001b[0mstr\u001b[0m\u001b[0;34m,\u001b[0m \u001b[0mvalue\u001b[0m\u001b[0;34m)\u001b[0m \u001b[0;34m->\u001b[0m \u001b[0;32mNone\u001b[0m\u001b[0;34m:\u001b[0m\u001b[0;34m\u001b[0m\u001b[0;34m\u001b[0m\u001b[0m\n",
      "\u001b[0;31mAttributeError\u001b[0m: 'Series' object has no attribute 'DOB_Age'"
     ]
    }
   ],
   "source": [
    "\n",
    "\n",
    "\n",
    "\n",
    "\n",
    "\n",
    "\n",
    "\n",
    "\n",
    "# force my will and turn my age column as an int\n",
    "df = df.Age.astype(int, errors='ignore')\n",
    "# force my Caps column to turn into a int column, no matter what it says\n",
    "df = df.Caps.astype('int', errors='ignore')\n",
    "# dropping the wordy column as we got what we wanted from it.\n",
    "df = df.drop(['DOB_Age'], axis = 1)\n",
    "# check to see we did it right\n",
    "df.info()\n"
   ]
  },
  {
   "cell_type": "code",
   "execution_count": null,
   "metadata": {},
   "outputs": [],
   "source": [
    "df.to_csv('data/world_cup.csv')"
   ]
  },
  {
   "cell_type": "code",
   "execution_count": null,
   "metadata": {},
   "outputs": [],
   "source": [
    "# Imports the Google Cloud client library\n",
    "import os\n",
    "from google.cloud import storage\n",
    "\n",
    "# Instantiates a client\n",
    "\n",
    "os.environ[\"GOOGLE_APPLICATION_CREDENTIALS\"] = \"/home/fossa/data/dont_worry_about_it/dbt-user-creds.json\"\n",
    "client = storage.Client()\n",
    "\n",
    "\n",
    "# Retrieve an existing bucket\n",
    "# https://console.cloud.google.com/storage/browser/world_cup/\n",
    "bucket = client.get_bucket('world_cup')\n",
    "# upload the csv to the bucket\n",
    "blob = bucket.blob('world_cup.csv')\n",
    "blob.upload_from_filename('data/world_cup.csv')\n"
   ]
  },
  {
   "cell_type": "code",
   "execution_count": null,
   "metadata": {},
   "outputs": [],
   "source": []
  }
 ],
 "metadata": {
  "kernelspec": {
   "display_name": "Python 3.7.13 ('venv': venv)",
   "language": "python",
   "name": "python3"
  },
  "language_info": {
   "codemirror_mode": {
    "name": "ipython",
    "version": 3
   },
   "file_extension": ".py",
   "mimetype": "text/x-python",
   "name": "python",
   "nbconvert_exporter": "python",
   "pygments_lexer": "ipython3",
   "version": "3.7.13"
  },
  "orig_nbformat": 4,
  "vscode": {
   "interpreter": {
    "hash": "05e78369e3e1b279be23515b63fc5858fdad2693a1a358fcb39d34add3f0dff8"
   }
  }
 },
 "nbformat": 4,
 "nbformat_minor": 2
}
