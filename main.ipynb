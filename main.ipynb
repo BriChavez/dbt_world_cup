{
 "cells": [
  {
   "cell_type": "code",
   "execution_count": null,
   "metadata": {},
   "outputs": [],
   "source": [
    "# import pandas as pd\n",
    "\n",
    "# file_path = '/home/fossa/data/dont_worry_about_it/datasets/exoplanets.csv'\n",
    "# df = pd.read_csv(file_path,  = 'pl_name')"
   ]
  },
  {
   "cell_type": "code",
   "execution_count": null,
   "metadata": {},
   "outputs": [],
   "source": [
    "# \n",
    "# 'Walter Weiler', 'Samir Shaker Mahmoud', 'Medhi Lacen'\n",
    "\n",
    "# df.columns = ['Jersey_Num', 'Position', 'DOB_Age',\n",
    "#               'Caps', 'Club', 'Country', 'ClubCountry', 'Cup_Year']\n",
    "\n",
    "\n",
    "# df = df.fillna(0)\n",
    "\n",
    "\n",
    "# df[df.Caps.isnull()]\n",
    "# df.fillna(0)\n",
    "\n",
    "# df = pd.to_datetime(df.Birthday)\n",
    "df.info()"
   ]
  },
  {
   "cell_type": "code",
   "execution_count": null,
   "metadata": {},
   "outputs": [],
   "source": [
    "import pandas as pd\n",
    "\n",
    "# import a csv from the world wide web\n",
    "soccer_url = \"https://raw.githubusercontent.com/BriChavez/FIFAWorldCup/master/squads.csv\"\n",
    "# read it into our trusty pandas df so we can clean it\n",
    "df = pd.read_csv(soccer_url)\n",
    "\n",
    "# set index as player name\n",
    "df = df.set_index('Player')\n",
    "# set column names\n",
    "df.columns = ['Jersey_Num',\n",
    "              'Position',\n",
    "              'DOB_Age',\n",
    "              'Caps',\n",
    "              'Club',\n",
    "              'Country',\n",
    "              'ClubCountry',\n",
    "              'Cup_Year']\n",
    "\n",
    "# replace non integer values, in the column Caps, with 0\n",
    "df['Caps'] = df['Caps'].str.replace('[^\\w\\s]', '0')\n",
    "# extract words and numbers surrounded by parens. aka 'aged' and age value, in this instance\n",
    "Age = df.DOB_Age.str.extract(r\"\\(([A-Za-z0-9 _]+)\\)\")\n",
    "# assign the extracted aged info as a column to mess with further\n",
    "df = df.assign(Age=Age)\n",
    "# reassign our new column the extracted integers from that column, aka just the ages\n",
    "df = df.assign(Age=lambda x: x['Age'].str.extract('(\\d+)'))\n",
    "# reassign as birthday the dob datetime object from inside parens\n",
    "df = df.assign(Birthday=lambda x: x['DOB_Age'].str.extract(r\"\\(([0-9 _-]+)\\)\"))\n",
    "# sorry boys, ya b-day is backward and i dont have time to figure that out\n",
    "df = df.drop(\n",
    "    # dropping the backward birthday boys\n",
    "    index=['Walter Weiler', 'Samir Shaker Mahmoud', 'Medhi Lacen'])\n",
    "# fill null numeric values with 0\n",
    "df = df.fillna(0)\n",
    "# fill null values from nonnumeric columns with n/a\n",
    "df = df.fillna('n/a')\n",
    "# force my will and turn my age column as an int\n",
    "df.Age = df.Age.astype(int, errors='ignore')\n",
    "# force my Caps column to turn into a int column, no matter what it says\n",
    "df.Caps = df.Caps.astype(int, errors='ignore')\n",
    "# set birthday as a datetime\n",
    "df.Birthday = pd.to_datetime(df.Birthday)\n",
    "# change cup year to a datetime\n",
    "df.Cup_Year = pd.to_datetime(df.Cup_Year, format='%Y')\n",
    "# dropping the wordy column as we got what we wanted from it.\n",
    "df = df.drop(['DOB_Age'], axis = 1)\n",
    "# check to see we did it right\n",
    "df.info()\n",
    "# write our df to a csv\n",
    "df.to_csv('data/world_cup.csv')\n"
   ]
  },
  {
   "cell_type": "code",
   "execution_count": null,
   "metadata": {},
   "outputs": [],
   "source": [
    "# Imports the Google Cloud client library\n",
    "import os\n",
    "from google.cloud import storage\n",
    "\n",
    "# Instantiates a client\n",
    "\n",
    "os.environ[\"GOOGLE_APPLICATION_CREDENTIALS\"] = \"/home/fossa/data/dont_worry_about_it/dbt-user-creds.json\"\n",
    "client = storage.Client()\n",
    "\n",
    "\n",
    "# Retrieve an existing bucket\n",
    "# https://console.cloud.google.com/storage/browser/world_cup/\n",
    "bucket = client.get_bucket('world_cup')\n",
    "# upload the csv to the bucket\n",
    "blob = bucket.blob('world_cup.csv')\n",
    "blob.upload_from_filename('data/world_cup.csv')\n"
   ]
  },
  {
   "cell_type": "code",
   "execution_count": null,
   "metadata": {},
   "outputs": [],
   "source": []
  }
 ],
 "metadata": {
  "kernelspec": {
   "display_name": "Python 3.7.13 ('venv': venv)",
   "language": "python",
   "name": "python3"
  },
  "language_info": {
   "codemirror_mode": {
    "name": "ipython",
    "version": 3
   },
   "file_extension": ".py",
   "mimetype": "text/x-python",
   "name": "python",
   "nbconvert_exporter": "python",
   "pygments_lexer": "ipython3",
   "version": "3.7.13"
  },
  "orig_nbformat": 4,
  "vscode": {
   "interpreter": {
    "hash": "05e78369e3e1b279be23515b63fc5858fdad2693a1a358fcb39d34add3f0dff8"
   }
  }
 },
 "nbformat": 4,
 "nbformat_minor": 2
}
